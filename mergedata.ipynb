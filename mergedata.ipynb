{
  "nbformat": 4,
  "nbformat_minor": 0,
  "metadata": {
    "colab": {
      "name": "mergedata.ipynb",
      "provenance": [],
      "include_colab_link": true
    },
    "kernelspec": {
      "name": "python3",
      "display_name": "Python 3"
    },
    "language_info": {
      "name": "python"
    }
  },
  "cells": [
    {
      "cell_type": "markdown",
      "metadata": {
        "id": "view-in-github",
        "colab_type": "text"
      },
      "source": [
        "<a href=\"https://colab.research.google.com/github/NguyenTrang308/Co2/blob/main/mergedata.ipynb\" target=\"_parent\"><img src=\"https://colab.research.google.com/assets/colab-badge.svg\" alt=\"Open In Colab\"/></a>"
      ]
    },
    {
      "cell_type": "markdown",
      "source": [
        "# Mục mới"
      ],
      "metadata": {
        "id": "MTkbyKx1qF2E"
      }
    },
    {
      "cell_type": "code",
      "source": [
        "!git clone 'https://github.com/NguyenTrang308/Co2'\n",
        "!pip install OleFileIO-PL"
      ],
      "metadata": {
        "colab": {
          "base_uri": "https://localhost:8080/"
        },
        "id": "uHhFUuBGKvRI",
        "outputId": "8c4351a3-3ac4-44b8-b09f-10771f4a4dab"
      },
      "execution_count": null,
      "outputs": [
        {
          "output_type": "stream",
          "name": "stdout",
          "text": [
            "Installing collected packages: OleFileIO-PL\n",
            "Successfully installed OleFileIO-PL-0.31\n"
          ]
        }
      ]
    },
    {
      "cell_type": "code",
      "source": [
        "import pandas as pd\n",
        "import OleFileIO_PL"
      ],
      "metadata": {
        "id": "YYmBjAnqdexu"
      },
      "execution_count": null,
      "outputs": []
    },
    {
      "cell_type": "code",
      "source": [
        "df = pd.read_csv('Co2/Population.csv')\n",
        "\n",
        "df.set_index('Unnamed: 0', inplace = True)\n",
        "df = df.drop(df.columns[11:], axis = 1)\n",
        "\n",
        "col = list(df.columns)\n",
        "index = list(df.index)\n",
        "\n",
        "pop = {'Country': [], 'Year': [], 'Pop': []}\n",
        "\n",
        "for j in index:\n",
        "  for i in col:\n",
        "    pop['Country'].append(j)\n",
        "    pop['Year'].append(i)\n",
        "    pop['Pop'].append(str(df[i][j]).replace(',', ''))\n",
        "\n",
        "pop = pd.DataFrame(pop)\n",
        "pop['Pop'] = pop['Pop'].astype(int, errors = 'ignore')\n",
        "pop['Year'] = pop['Year'].astype(int)\n",
        "pop['Country'] = pop['Country'].astype(str)\n",
        "\n",
        "pop.info()\n",
        "print(pop['Year'].unique())\n"
      ],
      "metadata": {
        "colab": {
          "base_uri": "https://localhost:8080/"
        },
        "id": "5e-wlu6M8ziI",
        "outputId": "7ff90bcd-6931-4404-af00-90cf96715d82"
      },
      "execution_count": null,
      "outputs": [
        {
          "output_type": "stream",
          "name": "stdout",
          "text": [
            "<class 'pandas.core.frame.DataFrame'>\n",
            "RangeIndex: 2585 entries, 0 to 2584\n",
            "Data columns (total 3 columns):\n",
            " #   Column   Non-Null Count  Dtype \n",
            "---  ------   --------------  ----- \n",
            " 0   Country  2585 non-null   object\n",
            " 1   Year     2585 non-null   int64 \n",
            " 2   Pop      2585 non-null   int64 \n",
            "dtypes: int64(2), object(1)\n",
            "memory usage: 60.7+ KB\n",
            "[2020 2019 2018 2017 2016 2015 2010 2005 2000 1995 1990]\n"
          ]
        }
      ]
    },
    {
      "cell_type": "code",
      "source": [
        "df1 = pd.read_csv('/content/Co2/PopulationDensity.csv')\n",
        "\n",
        "df1.set_index('Unnamed: 0', inplace = True)\n",
        "df1 = df1.drop(df1.columns[11:], axis = 1)\n",
        "\n",
        "col = list(df.columns)\n",
        "index = list(df.index)\n",
        "\n",
        "popden = {'Country': [], 'Year': [], 'Pop_den': []}\n",
        "\n",
        "for j in index:\n",
        "  for i in col:\n",
        "    popden['Country'].append(j)\n",
        "    popden['Year'].append(i)\n",
        "    popden['Pop_den'].append(str(df1[i][j]).replace(',', ''))\n",
        "\n",
        "popden = pd.DataFrame(popden)\n",
        "popden['Pop_den'] = popden['Pop_den'].astype(int)\n",
        "popden['Year'] = popden['Year'].astype(int)\n",
        "popden['Country'] = popden['Country'].astype(str)\n",
        "\n",
        "popden.info()"
      ],
      "metadata": {
        "colab": {
          "base_uri": "https://localhost:8080/"
        },
        "outputId": "335dff23-ba3b-4a2e-d7ed-e9316f64320a",
        "id": "xIqRAm1QCaPm"
      },
      "execution_count": null,
      "outputs": [
        {
          "output_type": "stream",
          "name": "stdout",
          "text": [
            "<class 'pandas.core.frame.DataFrame'>\n",
            "RangeIndex: 2585 entries, 0 to 2584\n",
            "Data columns (total 3 columns):\n",
            " #   Column   Non-Null Count  Dtype \n",
            "---  ------   --------------  ----- \n",
            " 0   Country  2585 non-null   object\n",
            " 1   Year     2585 non-null   int64 \n",
            " 2   Pop_den  2585 non-null   int64 \n",
            "dtypes: int64(2), object(1)\n",
            "memory usage: 60.7+ KB\n"
          ]
        }
      ]
    },
    {
      "cell_type": "code",
      "source": [
        "data = pd.merge(pop, popden, on = ['Country', 'Year'])\n",
        "data.info()"
      ],
      "metadata": {
        "id": "RDml0eoNJanQ",
        "colab": {
          "base_uri": "https://localhost:8080/"
        },
        "outputId": "be46ec99-4b73-47b7-f12d-a2adf384389f"
      },
      "execution_count": null,
      "outputs": [
        {
          "output_type": "stream",
          "name": "stdout",
          "text": [
            "<class 'pandas.core.frame.DataFrame'>\n",
            "Int64Index: 2585 entries, 0 to 2584\n",
            "Data columns (total 4 columns):\n",
            " #   Column   Non-Null Count  Dtype \n",
            "---  ------   --------------  ----- \n",
            " 0   Country  2585 non-null   object\n",
            " 1   Year     2585 non-null   int64 \n",
            " 2   Pop      2585 non-null   int64 \n",
            " 3   Pop_den  2585 non-null   int64 \n",
            "dtypes: int64(3), object(1)\n",
            "memory usage: 101.0+ KB\n"
          ]
        }
      ]
    },
    {
      "cell_type": "code",
      "source": [
        "df1 = pd.read_csv('Co2/ghg-emissions.csv')\n",
        "\n",
        "df1 = df1.drop(df1.columns[1:107], axis = 1)\n",
        "df1.set_index('Country/Region', inplace = True)\n",
        "col = list(df1.columns)\n",
        "index = list(df1.index)\n",
        "\n",
        "Co2 = {'Country': [], 'Year': [], 'CO2': []}\n",
        "\n",
        "for j in index:\n",
        "  for i in col:\n",
        "    Co2['Country'].append(j)\n",
        "    Co2['Year'].append(i)\n",
        "    Co2['CO2'].append(df1[i][j])\n",
        "\n",
        "Co2 = pd.DataFrame(Co2)\n",
        "Co2['CO2'] = Co2['CO2'].astype(float, errors = 'ignore')\n",
        "Co2['Year'] = Co2['Year'].astype(int)\n",
        "Co2['Country'] = Co2['Country'].astype(str)\n",
        "\n",
        "Co2.info()\n",
        "print(Co2['Country'].unique())"
      ],
      "metadata": {
        "id": "6cvIssJmAdus",
        "colab": {
          "base_uri": "https://localhost:8080/"
        },
        "outputId": "ac868591-90d9-48ee-f5a6-63d4c4051894"
      },
      "execution_count": null,
      "outputs": [
        {
          "output_type": "stream",
          "name": "stdout",
          "text": [
            "<class 'pandas.core.frame.DataFrame'>\n",
            "RangeIndex: 13376 entries, 0 to 13375\n",
            "Data columns (total 3 columns):\n",
            " #   Column   Non-Null Count  Dtype \n",
            "---  ------   --------------  ----- \n",
            " 0   Country  13376 non-null  object\n",
            " 1   Year     13376 non-null  int64 \n",
            " 2   CO2      13248 non-null  object\n",
            "dtypes: int64(1), object(2)\n",
            "memory usage: 313.6+ KB\n",
            "['China' 'United States' 'India' 'Russia' 'Japan' 'Germany' 'Iran'\n",
            " 'South Korea' 'Indonesia' 'Canada' 'Saudi Arabia' 'Mexico' 'Brazil'\n",
            " 'South Africa' 'Turkey' 'Australia' 'United Kingdom' 'Thailand' 'Italy'\n",
            " 'France' 'Poland' 'Kazakhstan' 'Taiwan, Republic of China' 'Spain'\n",
            " 'Vietnam' 'Malaysia' 'Ukraine' 'Egypt' 'United Arab Emirates' 'Pakistan'\n",
            " 'Argentina' 'Iraq' 'Algeria' 'Netherlands' 'Philippines' 'Venezuela'\n",
            " 'Qatar' 'Nigeria' 'Czech Republic' 'Belgium' 'Kuwait' 'Bangladesh'\n",
            " 'Singapore' 'Uzbekistan' 'Chile' 'Oman' 'Colombia' 'Romania' 'Greece'\n",
            " 'North Korea' 'Austria' 'Israel' 'Morocco' 'Peru' 'Belarus'\n",
            " 'Turkmenistan' 'Serbia' 'Portugal' 'Trinidad and Tobago' 'Hungary'\n",
            " 'Hong Kong, Special Administrative Region of China' 'Libya' 'Finland'\n",
            " 'Syria' 'Norway' 'Bulgaria' 'Sweden' 'Ecuador' 'Ireland' 'Azerbaijan'\n",
            " 'Switzerland' 'Denmark' 'Slovakia' 'New Zealand' 'Cuba' 'Angola'\n",
            " 'Sri Lanka' 'Bahrain' 'Mongolia' 'Myanmar' 'Tunisia' 'Yemen'\n",
            " 'Bosnia and Herzegovina' 'Estonia' 'Jordan' 'Kenya' 'Bolivia'\n",
            " 'Afghanistan' 'Sudan' 'Guatemala' 'Croatia' 'Ghana' 'Lebanon'\n",
            " \"Côte d'Ivoire\" 'Ethiopia' 'Brunei' 'Cameroon' 'Zimbabwe' 'Slovenia'\n",
            " 'Dominican Republic' 'Lithuania' 'Tanzania' 'Nepal' 'Panama' 'Honduras'\n",
            " 'Moldova' 'Cambodia' 'Kyrgyzstan' 'Papua New Guinea' 'Mozambique'\n",
            " 'Georgia' 'Senegal' 'Luxembourg' 'Costa Rica' 'El Salvador' 'Macedonia'\n",
            " 'Latvia' 'Jamaica' 'Benin' 'Albania' 'Botswana' 'Armenia'\n",
            " 'Netherlands Antilles' 'Cyprus' 'Paraguay' 'Equatorial Guinea' 'Uruguay'\n",
            " 'Nicaragua' 'Democratic Republic of the Congo' 'Uganda' 'Zambia' 'Gabon'\n",
            " 'Mali' 'Mauritius' 'Togo' 'Niger' 'Guinea' 'Mauritania' 'Namibia'\n",
            " 'Madagascar' 'Iceland' 'Republic of Congo' 'Barbados' 'Burkina Faso'\n",
            " 'Haiti' 'Tajikistan' 'Montenegro' 'Suriname' 'Lesotho' 'Bahamas' 'Guyana'\n",
            " 'Macao, Special Administrative Region of China' 'South Sudan' 'Laos'\n",
            " 'Fiji' 'Maldives' 'Malta' 'Bhutan' 'Malawi' 'Sierra Leone' 'Eswatini'\n",
            " 'Liberia' 'Rwanda' 'Chad' 'Aruba' 'Cape Verde' 'Djibouti' 'Somalia'\n",
            " 'Belize' 'Eritrea' 'Gambia' 'Antigua and Barbuda' 'Seychelles' 'Palau'\n",
            " 'Saint Lucia' 'Timor-Leste' 'Andorra' 'Guinea-Bissau' 'Samoa'\n",
            " 'Solomon Islands' 'Central African Republic' 'Vanuatu' 'Grenada'\n",
            " 'Micronesia' 'Saint Kitts and Nevis' 'Marshall Islands' 'Burundi'\n",
            " 'Saint Vincent and the Grenadines' 'Turks and Caicos Islands' 'Comoros'\n",
            " 'British Virgin Islands' 'Tonga' 'San Marino' 'Dominica' 'Liechtenstein'\n",
            " 'Anguilla' 'Kiribati' 'Sao Tome and Principe' 'Cook Islands' 'Monaco'\n",
            " 'Nauru' 'Niue' 'Holy See\\xa0(Vatican City State)' 'Tokelau' 'Tuvalu'\n",
            " 'Saint Helena' 'Antarctica' 'Data source' 'Data for']\n"
          ]
        }
      ]
    },
    {
      "cell_type": "code",
      "source": [
        "data = pd.merge(data, Co2, how = 'outer', on = ['Country', 'Year'])\n",
        "data.info()"
      ],
      "metadata": {
        "id": "sdF4ROr6NMWI",
        "colab": {
          "base_uri": "https://localhost:8080/"
        },
        "outputId": "be9a848a-2098-47b8-de6c-a0f7059845af"
      },
      "execution_count": null,
      "outputs": [
        {
          "output_type": "stream",
          "name": "stdout",
          "text": [
            "<class 'pandas.core.frame.DataFrame'>\n",
            "Int64Index: 14242 entries, 0 to 14241\n",
            "Data columns (total 5 columns):\n",
            " #   Column   Non-Null Count  Dtype  \n",
            "---  ------   --------------  -----  \n",
            " 0   Country  14242 non-null  object \n",
            " 1   Year     14242 non-null  int64  \n",
            " 2   Pop      2585 non-null   float64\n",
            " 3   Pop_den  2585 non-null   float64\n",
            " 4   CO2      13248 non-null  object \n",
            "dtypes: float64(2), int64(1), object(2)\n",
            "memory usage: 667.6+ KB\n"
          ]
        }
      ]
    },
    {
      "cell_type": "code",
      "source": [
        "forest = pd.read_csv('/content/Co2/forestarea.csv')\n",
        "\n",
        "forest = forest.drop(forest.columns[[0,1,2,4,5,6,7,8,10,11,12,14,15,16]], axis = 1)\n",
        "forest = forest.rename(columns = {'Area':'Country', 'Value':'Forest'})\n",
        "forest = forest.convert_dtypes()\n",
        "forest['Forest'] = forest['Forest'].astype(float)\n",
        "forest['Year'] = forest['Year'].astype(int)\n",
        "forest['Country'] = forest['Country'].astype(str)\n",
        "vn = forest['Country'] == 'Viet Nam'\n",
        "forest.loc[vn, 'Country'] = 'Vietnam'\n",
        "us = forest['Country'] == 'United States of America'\n",
        "forest.loc[us, 'Country'] = 'United States'\n",
        "han = forest['Country'] == 'Republic of Korea'\n",
        "forest.loc[han, 'Country'] = 'South Korea'\n",
        "russia = forest['Country'] == 'Russian Federation'\n",
        "forest.loc[russia, 'Country'] = 'Russia'\n",
        "iran = forest['Country'] == 'Iran (Islamic Republic of)'\n",
        "forest.loc[iran, 'Country'] = 'Iran'\n",
        "uk = forest['Country'] == 'United Kingdom of Great Britain and Northern Ireland'\n",
        "forest.loc[uk, 'Country'] = 'United Kingdom'\n",
        "print(forest['Country'].unique())"
      ],
      "metadata": {
        "id": "2jRN3IMtRoWB",
        "colab": {
          "base_uri": "https://localhost:8080/"
        },
        "outputId": "c67a47d2-485b-46cd-d753-5266bb4eda4f"
      },
      "execution_count": null,
      "outputs": [
        {
          "output_type": "stream",
          "name": "stdout",
          "text": [
            "['Afghanistan' 'Albania' 'Algeria' 'American Samoa' 'Andorra' 'Angola'\n",
            " 'Anguilla' 'Antigua and Barbuda' 'Argentina' 'Armenia' 'Aruba'\n",
            " 'Australia' 'Austria' 'Azerbaijan' 'Bahamas' 'Bahrain' 'Bangladesh'\n",
            " 'Barbados' 'Belarus' 'Belgium' 'Belgium-Luxembourg' 'Belize' 'Benin'\n",
            " 'Bermuda' 'Bhutan' 'Bolivia (Plurinational State of)'\n",
            " 'Bonaire, Sint Eustatius and Saba' 'Bosnia and Herzegovina' 'Botswana'\n",
            " 'Brazil' 'British Virgin Islands' 'Brunei Darussalam' 'Bulgaria'\n",
            " 'Burkina Faso' 'Burundi' 'Cabo Verde' 'Cambodia' 'Cameroon' 'Canada'\n",
            " 'Cayman Islands' 'Central African Republic' 'Chad' 'Chile' 'China'\n",
            " 'China, mainland' 'Colombia' 'Comoros' 'Congo' 'Cook Islands'\n",
            " 'Costa Rica' \"Côte d'Ivoire\" 'Croatia' 'Cuba' 'Curaçao' 'Cyprus'\n",
            " 'Czechia' 'Czechoslovakia' \"Democratic People's Republic of Korea\"\n",
            " 'Democratic Republic of the Congo' 'Denmark' 'Djibouti' 'Dominica'\n",
            " 'Dominican Republic' 'Ecuador' 'Egypt' 'El Salvador' 'Equatorial Guinea'\n",
            " 'Eritrea' 'Estonia' 'Eswatini' 'Ethiopia' 'Ethiopia PDR'\n",
            " 'Falkland Islands (Malvinas)' 'Faroe Islands' 'Fiji' 'Finland' 'France'\n",
            " 'French Guyana' 'French Polynesia' 'Gabon' 'Gambia' 'Georgia' 'Germany'\n",
            " 'Ghana' 'Gibraltar' 'Greece' 'Greenland' 'Grenada' 'Guadeloupe' 'Guam'\n",
            " 'Guatemala' 'Guinea' 'Guinea-Bissau' 'Guyana' 'Haiti' 'Holy See'\n",
            " 'Honduras' 'Hungary' 'Iceland' 'India' 'Indonesia' 'Iran' 'Iraq'\n",
            " 'Ireland' 'Isle of Man' 'Israel' 'Italy' 'Jamaica' 'Japan' 'Jersey'\n",
            " 'Jordan' 'Kazakhstan' 'Kenya' 'Kiribati' 'Kuwait' 'Kyrgyzstan'\n",
            " \"Lao People's Democratic Republic\" 'Latvia' 'Lebanon' 'Lesotho' 'Liberia'\n",
            " 'Libya' 'Liechtenstein' 'Lithuania' 'Luxembourg' 'Madagascar' 'Malawi'\n",
            " 'Malaysia' 'Maldives' 'Mali' 'Malta' 'Marshall Islands' 'Martinique'\n",
            " 'Mauritania' 'Mauritius' 'Mayotte' 'Mexico'\n",
            " 'Micronesia (Federated States of)' 'Monaco' 'Mongolia' 'Montenegro'\n",
            " 'Montserrat' 'Morocco' 'Mozambique' 'Myanmar' 'Namibia' 'Nauru' 'Nepal'\n",
            " 'Netherlands' 'Netherlands Antilles (former)' 'New Caledonia'\n",
            " 'New Zealand' 'Nicaragua' 'Niger' 'Nigeria' 'Niue' 'Norfolk Island'\n",
            " 'North Macedonia' 'Northern Mariana Islands' 'Norway' 'Oman'\n",
            " 'Pacific Islands Trust Territory' 'Pakistan' 'Palau' 'Palestine' 'Panama'\n",
            " 'Papua New Guinea' 'Paraguay' 'Peru' 'Philippines' 'Pitcairn' 'Poland'\n",
            " 'Portugal' 'Puerto Rico' 'Qatar' 'South Korea' 'Republic of Moldova'\n",
            " 'Réunion' 'Romania' 'Russia' 'Rwanda'\n",
            " 'Saint Helena, Ascension and Tristan da Cunha' 'Saint Kitts and Nevis'\n",
            " 'Saint Lucia' 'Saint Pierre and Miquelon'\n",
            " 'Saint Vincent and the Grenadines' 'Saint-Martin (French part)' 'Samoa'\n",
            " 'San Marino' 'Sao Tome and Principe' 'Saudi Arabia' 'Senegal' 'Serbia'\n",
            " 'Serbia and Montenegro' 'Seychelles' 'Sierra Leone' 'Singapore'\n",
            " 'Sint Maarten (Dutch part)' 'Slovakia' 'Slovenia' 'Solomon Islands'\n",
            " 'Somalia' 'South Africa' 'South Sudan' 'Spain' 'Sri Lanka' 'Sudan'\n",
            " 'Sudan (former)' 'Suriname' 'Svalbard and Jan Mayen Islands' 'Sweden'\n",
            " 'Switzerland' 'Syrian Arab Republic' 'Tajikistan' 'Thailand'\n",
            " 'Timor-Leste' 'Togo' 'Tokelau' 'Tonga' 'Trinidad and Tobago' 'Tunisia'\n",
            " 'Turkey' 'Turkmenistan' 'Turks and Caicos Islands' 'Tuvalu' 'Uganda'\n",
            " 'Ukraine' 'United Arab Emirates' 'United Kingdom'\n",
            " 'United Republic of Tanzania' 'United States'\n",
            " 'United States Virgin Islands' 'Uruguay' 'USSR' 'Uzbekistan' 'Vanuatu'\n",
            " 'Venezuela (Bolivarian Republic of)' 'Vietnam'\n",
            " 'Wallis and Futuna Islands' 'Western Sahara' 'Yemen' 'Yugoslav SFR'\n",
            " 'Zambia' 'Zimbabwe']\n"
          ]
        }
      ]
    },
    {
      "cell_type": "code",
      "source": [
        "data = pd.merge(data, forest, how = 'outer', on = ['Country', 'Year'])\n",
        "data.info()"
      ],
      "metadata": {
        "id": "TxJeGTdvOkZY",
        "colab": {
          "base_uri": "https://localhost:8080/"
        },
        "outputId": "d20af45b-21ef-420c-ac5e-0aab4437a6eb"
      },
      "execution_count": null,
      "outputs": [
        {
          "output_type": "stream",
          "name": "stdout",
          "text": [
            "<class 'pandas.core.frame.DataFrame'>\n",
            "Int64Index: 15500 entries, 0 to 15499\n",
            "Data columns (total 6 columns):\n",
            " #   Column   Non-Null Count  Dtype  \n",
            "---  ------   --------------  -----  \n",
            " 0   Country  15500 non-null  object \n",
            " 1   Year     15500 non-null  int64  \n",
            " 2   Pop      2585 non-null   float64\n",
            " 3   Pop_den  2585 non-null   float64\n",
            " 4   CO2      13248 non-null  object \n",
            " 5   Forest   7139 non-null   float64\n",
            "dtypes: float64(3), int64(1), object(2)\n",
            "memory usage: 847.7+ KB\n"
          ]
        }
      ]
    },
    {
      "cell_type": "code",
      "source": [
        "path = '/content/Co2/GDP.xls'\n",
        "\n",
        "with open(path,'rb') as file:\n",
        "    ole = OleFileIO_PL.OleFileIO(file)\n",
        "    if ole.exists('Workbook'):\n",
        "        d = ole.openstream('Workbook')\n",
        "        df2 = pd.read_excel(d,engine='xlrd')\n",
        "\n",
        "df2 = df2.drop(df2.index[0])\n",
        "df2 = df2.drop(df2.columns[-6:], axis = 1)\n",
        "\n",
        "df2.set_index('GDP, current prices (Billions of U.S. dollars)', inplace = True)\n",
        "col = list(df2.columns)\n",
        "index = list(df2.index)\n",
        "\n",
        "gdp = {'Country': [], 'Year': [], 'GDP': []}\n",
        "\n",
        "for j in index:\n",
        "  for i in col:\n",
        "    gdp['Country'].append(j)\n",
        "    gdp['Year'].append(i)\n",
        "    gdp['GDP'].append(df2[i][j])\n",
        "\n",
        "gdp = pd.DataFrame(gdp)\n",
        "gdp['Year'] = gdp['Year'].astype(int)\n",
        "gdp['Country'] = gdp['Country'].astype(str)\n",
        "china = gdp['Country'] == \"China, People's Republic of\"\n",
        "gdp.loc[china, 'Country'] = 'China'\n",
        "han = gdp['Country'] == \"Korea, Republic of\"\n",
        "gdp.loc[han, 'Country'] = 'South Korea'\n",
        "russia = gdp['Country'] == 'Russian Federation'\n",
        "gdp.loc[russia, 'Country'] = 'Russia'\n",
        "\n",
        "print(gdp['Country'].unique())"
      ],
      "metadata": {
        "colab": {
          "base_uri": "https://localhost:8080/"
        },
        "id": "mDG9GZLLdFcn",
        "outputId": "2bf928a2-04e4-459a-b855-15cd81c8a081"
      },
      "execution_count": null,
      "outputs": [
        {
          "output_type": "stream",
          "name": "stdout",
          "text": [
            "['Afghanistan' 'Albania' 'Algeria' 'Andorra' 'Angola'\n",
            " 'Antigua and Barbuda' 'Argentina' 'Armenia' 'Aruba' 'Australia' 'Austria'\n",
            " 'Azerbaijan' 'Bahamas, The' 'Bahrain' 'Bangladesh' 'Barbados' 'Belarus'\n",
            " 'Belgium' 'Belize' 'Benin' 'Bhutan' 'Bolivia' 'Bosnia and Herzegovina'\n",
            " 'Botswana' 'Brazil' 'Brunei Darussalam' 'Bulgaria' 'Burkina Faso'\n",
            " 'Burundi' 'Cabo Verde' 'Cambodia' 'Cameroon' 'Canada'\n",
            " 'Central African Republic' 'Chad' 'Chile' 'China' 'Colombia' 'Comoros'\n",
            " 'Congo, Dem. Rep. of the' 'Congo, Republic of ' 'Costa Rica' 'Croatia'\n",
            " 'Cyprus' 'Czech Republic' \"Côte d'Ivoire\" 'Denmark' 'Djibouti' 'Dominica'\n",
            " 'Dominican Republic' 'Ecuador' 'Egypt' 'El Salvador' 'Equatorial Guinea'\n",
            " 'Eritrea' 'Estonia' 'Eswatini' 'Ethiopia' 'Fiji' 'Finland' 'France'\n",
            " 'Gabon' 'Gambia, The' 'Georgia' 'Germany' 'Ghana' 'Greece' 'Grenada'\n",
            " 'Guatemala' 'Guinea' 'Guinea-Bissau' 'Guyana' 'Haiti' 'Honduras'\n",
            " 'Hong Kong SAR' 'Hungary' 'Iceland' 'India' 'Indonesia' 'Iran' 'Iraq'\n",
            " 'Ireland' 'Israel' 'Italy' 'Jamaica' 'Japan' 'Jordan' 'Kazakhstan'\n",
            " 'Kenya' 'Kiribati' 'South Korea' 'Kosovo' 'Kuwait' 'Kyrgyz Republic'\n",
            " 'Lao P.D.R.' 'Latvia' 'Lebanon' 'Lesotho' 'Liberia' 'Libya' 'Lithuania'\n",
            " 'Luxembourg' 'Macao SAR' 'Madagascar' 'Malawi' 'Malaysia' 'Maldives'\n",
            " 'Mali' 'Malta' 'Marshall Islands' 'Mauritania' 'Mauritius' 'Mexico'\n",
            " 'Micronesia, Fed. States of' 'Moldova' 'Mongolia' 'Montenegro' 'Morocco'\n",
            " 'Mozambique' 'Myanmar' 'Namibia' 'Nauru' 'Nepal' 'Netherlands'\n",
            " 'New Zealand' 'Nicaragua' 'Niger' 'Nigeria' 'North Macedonia ' 'Norway'\n",
            " 'Oman' 'Pakistan' 'Palau' 'Panama' 'Papua New Guinea' 'Paraguay' 'Peru'\n",
            " 'Philippines' 'Poland' 'Portugal' 'Puerto Rico' 'Qatar' 'Romania'\n",
            " 'Russia' 'Rwanda' 'Saint Kitts and Nevis' 'Saint Lucia'\n",
            " 'Saint Vincent and the Grenadines' 'Samoa' 'San Marino' 'Saudi Arabia'\n",
            " 'Senegal' 'Serbia' 'Seychelles' 'Sierra Leone' 'Singapore'\n",
            " 'Slovak Republic' 'Slovenia' 'Solomon Islands' 'Somalia' 'South Africa'\n",
            " 'South Sudan, Republic of' 'Spain' 'Sri Lanka' 'Sudan' 'Suriname'\n",
            " 'Sweden' 'Switzerland' 'Syria' 'São Tomé and Príncipe'\n",
            " 'Taiwan Province of China' 'Tajikistan' 'Tanzania' 'Thailand'\n",
            " 'Timor-Leste' 'Togo' 'Tonga' 'Trinidad and Tobago' 'Tunisia' 'Turkey'\n",
            " 'Turkmenistan' 'Tuvalu' 'Uganda' 'Ukraine' 'United Arab Emirates'\n",
            " 'United Kingdom' 'United States' 'Uruguay' 'Uzbekistan' 'Vanuatu'\n",
            " 'Venezuela' 'Vietnam' 'West Bank and Gaza' 'Yemen' 'Zambia' 'Zimbabwe'\n",
            " 'Africa (Region)' 'Asia and Pacific' 'Australia and New Zealand'\n",
            " 'Caribbean' 'Central America' 'Central Asia and the Caucasus' 'East Asia'\n",
            " 'Eastern Europe ' 'Europe' 'Middle East (Region)' 'North Africa'\n",
            " 'North America' 'Pacific Islands ' 'South America' 'South Asia'\n",
            " 'Southeast Asia' 'Sub-Saharan Africa (Region) ' 'Western Europe'\n",
            " 'Western Hemisphere (Region)' 'ASEAN-5' 'Advanced economies'\n",
            " 'Emerging and Developing Asia' 'Emerging and Developing Europe'\n",
            " 'Emerging market and developing economies' 'Euro area' 'European Union'\n",
            " 'Latin America and the Caribbean' 'Major advanced economies (G7)'\n",
            " 'Middle East and Central Asia' 'Other advanced economies'\n",
            " 'Sub-Saharan Africa' 'World' 'nan' '©IMF, 2021']\n"
          ]
        }
      ]
    },
    {
      "cell_type": "code",
      "source": [
        "data = pd.merge(data, gdp, how = 'outer', on = ['Country', 'Year'])\n",
        "data.info()"
      ],
      "metadata": {
        "id": "ptcU_80kPCnu",
        "colab": {
          "base_uri": "https://localhost:8080/"
        },
        "outputId": "5adc820e-23b8-4a86-9622-3eb8fe49d2e6"
      },
      "execution_count": null,
      "outputs": [
        {
          "output_type": "stream",
          "name": "stdout",
          "text": [
            "<class 'pandas.core.frame.DataFrame'>\n",
            "Int64Index: 17582 entries, 0 to 17581\n",
            "Data columns (total 7 columns):\n",
            " #   Column   Non-Null Count  Dtype  \n",
            "---  ------   --------------  -----  \n",
            " 0   Country  17582 non-null  object \n",
            " 1   Year     17582 non-null  int64  \n",
            " 2   Pop      2585 non-null   float64\n",
            " 3   Pop_den  2585 non-null   float64\n",
            " 4   CO2      13248 non-null  object \n",
            " 5   Forest   7139 non-null   float64\n",
            " 6   GDP      9348 non-null   object \n",
            "dtypes: float64(3), int64(1), object(3)\n",
            "memory usage: 1.1+ MB\n"
          ]
        }
      ]
    },
    {
      "cell_type": "code",
      "source": [
        "\n",
        "df3 = pd.read_csv('/content/Co2/industry(contruction).csv', skiprows =4, index_col=None)\n",
        "\n",
        "df3 = df3.drop(df3.columns[1:5], axis = 1)\n",
        "df3 = df3.drop(df3.columns[[-1]], axis = 1)\n",
        "\n",
        "df3.set_index('Country Name', inplace = True)\n",
        "col = list(df3.columns)\n",
        "index = list(df3.index)\n",
        "\n",
        "icva = {'Country': [], 'Year': [], 'ICVA': []}\n",
        "\n",
        "for j in index:\n",
        "  for i in col:\n",
        "    icva['Country'].append(j)\n",
        "    icva['Year'].append(i)\n",
        "    icva['ICVA'].append(df3[i][j])\n",
        "    \n",
        "icva = pd.DataFrame(icva)\n",
        "icva['ICVA'] = icva['ICVA'].astype(int, errors = 'ignore')\n",
        "icva['Year'] = icva['Year'].astype(int)\n",
        "icva['Country'] = icva['Country'].astype(str)\n",
        "\n",
        "han = icva['Country'] == 'Korea, Rep.'\n",
        "icva.loc[han, 'Country'] = 'South Korea'\n",
        "\n",
        "iran = icva['Country'] == 'Iran, Islamic Rep.'\n",
        "icva.loc[iran, 'Country'] = 'Iran'\n",
        "russia = icva['Country'] == 'Russian Federation'\n",
        "icva.loc[russia, 'Country'] = 'Russia'\n",
        "print(icva['Country'].unique())"
      ],
      "metadata": {
        "colab": {
          "base_uri": "https://localhost:8080/"
        },
        "id": "-2rVPKgj6yHy",
        "outputId": "f69868ed-cf3f-4bc3-a9c1-339da3d3f8ba"
      },
      "execution_count": null,
      "outputs": [
        {
          "output_type": "stream",
          "name": "stdout",
          "text": [
            "['Aruba' 'Africa Eastern and Southern' 'Afghanistan'\n",
            " 'Africa Western and Central' 'Angola' 'Albania' 'Andorra' 'Arab World'\n",
            " 'United Arab Emirates' 'Argentina' 'Armenia' 'American Samoa'\n",
            " 'Antigua and Barbuda' 'Australia' 'Austria' 'Azerbaijan' 'Burundi'\n",
            " 'Belgium' 'Benin' 'Burkina Faso' 'Bangladesh' 'Bulgaria' 'Bahrain'\n",
            " 'Bahamas, The' 'Bosnia and Herzegovina' 'Belarus' 'Belize' 'Bermuda'\n",
            " 'Bolivia' 'Brazil' 'Barbados' 'Brunei Darussalam' 'Bhutan' 'Botswana'\n",
            " 'Central African Republic' 'Canada' 'Central Europe and the Baltics'\n",
            " 'Switzerland' 'Channel Islands' 'Chile' 'China' \"Cote d'Ivoire\"\n",
            " 'Cameroon' 'Congo, Dem. Rep.' 'Congo, Rep.' 'Colombia' 'Comoros'\n",
            " 'Cabo Verde' 'Costa Rica' 'Caribbean small states' 'Cuba' 'Curacao'\n",
            " 'Cayman Islands' 'Cyprus' 'Czech Republic' 'Germany' 'Djibouti'\n",
            " 'Dominica' 'Denmark' 'Dominican Republic' 'Algeria'\n",
            " 'East Asia & Pacific (excluding high income)'\n",
            " 'Early-demographic dividend' 'East Asia & Pacific'\n",
            " 'Europe & Central Asia (excluding high income)' 'Europe & Central Asia'\n",
            " 'Ecuador' 'Egypt, Arab Rep.' 'Euro area' 'Eritrea' 'Spain' 'Estonia'\n",
            " 'Ethiopia' 'European Union' 'Fragile and conflict affected situations'\n",
            " 'Finland' 'Fiji' 'France' 'Faroe Islands' 'Micronesia, Fed. Sts.' 'Gabon'\n",
            " 'United Kingdom' 'Georgia' 'Ghana' 'Gibraltar' 'Guinea' 'Gambia, The'\n",
            " 'Guinea-Bissau' 'Equatorial Guinea' 'Greece' 'Grenada' 'Greenland'\n",
            " 'Guatemala' 'Guam' 'Guyana' 'High income' 'Hong Kong SAR, China'\n",
            " 'Honduras' 'Heavily indebted poor countries (HIPC)' 'Croatia' 'Haiti'\n",
            " 'Hungary' 'IBRD only' 'IDA & IBRD total' 'IDA total' 'IDA blend'\n",
            " 'Indonesia' 'IDA only' 'Isle of Man' 'India' 'Not classified' 'Ireland'\n",
            " 'Iran' 'Iraq' 'Iceland' 'Israel' 'Italy' 'Jamaica' 'Jordan' 'Japan'\n",
            " 'Kazakhstan' 'Kenya' 'Kyrgyz Republic' 'Cambodia' 'Kiribati'\n",
            " 'St. Kitts and Nevis' 'South Korea' 'Kuwait'\n",
            " 'Latin America & Caribbean (excluding high income)' 'Lao PDR' 'Lebanon'\n",
            " 'Liberia' 'Libya' 'St. Lucia' 'Latin America & Caribbean'\n",
            " 'Least developed countries: UN classification' 'Low income'\n",
            " 'Liechtenstein' 'Sri Lanka' 'Lower middle income' 'Low & middle income'\n",
            " 'Lesotho' 'Late-demographic dividend' 'Lithuania' 'Luxembourg' 'Latvia'\n",
            " 'Macao SAR, China' 'St. Martin (French part)' 'Morocco' 'Monaco'\n",
            " 'Moldova' 'Madagascar' 'Maldives' 'Middle East & North Africa' 'Mexico'\n",
            " 'Marshall Islands' 'Middle income' 'North Macedonia' 'Mali' 'Malta'\n",
            " 'Myanmar' 'Middle East & North Africa (excluding high income)'\n",
            " 'Montenegro' 'Mongolia' 'Northern Mariana Islands' 'Mozambique'\n",
            " 'Mauritania' 'Mauritius' 'Malawi' 'Malaysia' 'North America' 'Namibia'\n",
            " 'New Caledonia' 'Niger' 'Nigeria' 'Nicaragua' 'Netherlands' 'Norway'\n",
            " 'Nepal' 'Nauru' 'New Zealand' 'OECD members' 'Oman' 'Other small states'\n",
            " 'Pakistan' 'Panama' 'Peru' 'Philippines' 'Palau' 'Papua New Guinea'\n",
            " 'Poland' 'Pre-demographic dividend' 'Puerto Rico'\n",
            " \"Korea, Dem. People's Rep.\" 'Portugal' 'Paraguay' 'West Bank and Gaza'\n",
            " 'Pacific island small states' 'Post-demographic dividend'\n",
            " 'French Polynesia' 'Qatar' 'Romania' 'Russia' 'Rwanda' 'South Asia'\n",
            " 'Saudi Arabia' 'Sudan' 'Senegal' 'Singapore' 'Solomon Islands'\n",
            " 'Sierra Leone' 'El Salvador' 'San Marino' 'Somalia' 'Serbia'\n",
            " 'Sub-Saharan Africa (excluding high income)' 'South Sudan'\n",
            " 'Sub-Saharan Africa' 'Small states' 'Sao Tome and Principe' 'Suriname'\n",
            " 'Slovak Republic' 'Slovenia' 'Sweden' 'Eswatini'\n",
            " 'Sint Maarten (Dutch part)' 'Seychelles' 'Syrian Arab Republic'\n",
            " 'Turks and Caicos Islands' 'Chad'\n",
            " 'East Asia & Pacific (IDA & IBRD countries)'\n",
            " 'Europe & Central Asia (IDA & IBRD countries)' 'Togo' 'Thailand'\n",
            " 'Tajikistan' 'Turkmenistan'\n",
            " 'Latin America & the Caribbean (IDA & IBRD countries)' 'Timor-Leste'\n",
            " 'Middle East & North Africa (IDA & IBRD countries)' 'Tonga'\n",
            " 'South Asia (IDA & IBRD)' 'Sub-Saharan Africa (IDA & IBRD countries)'\n",
            " 'Trinidad and Tobago' 'Tunisia' 'Turkey' 'Tuvalu' 'Tanzania' 'Uganda'\n",
            " 'Ukraine' 'Upper middle income' 'Uruguay' 'United States' 'Uzbekistan'\n",
            " 'St. Vincent and the Grenadines' 'Venezuela, RB' 'British Virgin Islands'\n",
            " 'Virgin Islands (U.S.)' 'Vietnam' 'Vanuatu' 'World' 'Samoa' 'Kosovo'\n",
            " 'Yemen, Rep.' 'South Africa' 'Zambia' 'Zimbabwe']\n"
          ]
        }
      ]
    },
    {
      "cell_type": "code",
      "source": [
        "data = pd.merge(data, icva, how = 'outer', on = ['Country', 'Year'])\n",
        "data.info()"
      ],
      "metadata": {
        "id": "cfpR8N2iJQJh",
        "colab": {
          "base_uri": "https://localhost:8080/"
        },
        "outputId": "5a00f12c-9687-4147-fa02-da5c1263a63c"
      },
      "execution_count": null,
      "outputs": [
        {
          "output_type": "stream",
          "name": "stdout",
          "text": [
            "<class 'pandas.core.frame.DataFrame'>\n",
            "Int64Index: 21944 entries, 0 to 21943\n",
            "Data columns (total 8 columns):\n",
            " #   Column   Non-Null Count  Dtype  \n",
            "---  ------   --------------  -----  \n",
            " 0   Country  21944 non-null  object \n",
            " 1   Year     21944 non-null  int64  \n",
            " 2   Pop      2585 non-null   float64\n",
            " 3   Pop_den  2585 non-null   float64\n",
            " 4   CO2      13248 non-null  object \n",
            " 5   Forest   7139 non-null   float64\n",
            " 6   GDP      9348 non-null   object \n",
            " 7   ICVA     9857 non-null   float64\n",
            "dtypes: float64(4), int64(1), object(3)\n",
            "memory usage: 1.5+ MB\n"
          ]
        }
      ]
    },
    {
      "cell_type": "code",
      "source": [
        "elecc = pd.read_csv('/content/Co2/elec-mix-bar.csv')\n",
        "elecc = elecc.drop(elecc.columns[[1]], axis = 1)\n",
        "elecc = elecc.rename(columns = {'Entity':'Country'})\n",
        "elecc['ElecC'] = elecc[elecc.columns[[2, 3, 4]]].sum(axis = 1)\n",
        "elecc = elecc.drop(elecc.columns[[2, 3, 4]], axis = 1)\n",
        "\n",
        "elecc.info()\n",
        "print(elecc['Year'].unique())"
      ],
      "metadata": {
        "id": "7rIOmWwRecQC",
        "colab": {
          "base_uri": "https://localhost:8080/"
        },
        "outputId": "feb13853-1503-479c-e938-82779be800bd"
      },
      "execution_count": null,
      "outputs": [
        {
          "output_type": "stream",
          "name": "stdout",
          "text": [
            "<class 'pandas.core.frame.DataFrame'>\n",
            "RangeIndex: 6241 entries, 0 to 6240\n",
            "Data columns (total 3 columns):\n",
            " #   Column   Non-Null Count  Dtype  \n",
            "---  ------   --------------  -----  \n",
            " 0   Country  6241 non-null   object \n",
            " 1   Year     6241 non-null   int64  \n",
            " 2   ElecC    6241 non-null   float64\n",
            "dtypes: float64(1), int64(1), object(1)\n",
            "memory usage: 146.4+ KB\n",
            "[2000 2001 2002 2003 2004 2005 2006 2007 2008 2009 2010 2011 2012 2013\n",
            " 2014 2015 2016 2017 2018 2019 1985 1986 1987 1988 1989 1990 1991 1992\n",
            " 1993 1994 1995 1996 1997 1998 1999 2020]\n"
          ]
        }
      ]
    },
    {
      "cell_type": "code",
      "source": [
        "data = pd.merge(data, elecc, how = 'outer', on = ['Country', 'Year'])\n",
        "data.info()"
      ],
      "metadata": {
        "id": "jai321BGPmFF",
        "colab": {
          "base_uri": "https://localhost:8080/"
        },
        "outputId": "6ae8ed8c-3817-42da-e99d-09f30f1c0a0d"
      },
      "execution_count": null,
      "outputs": [
        {
          "output_type": "stream",
          "name": "stdout",
          "text": [
            "<class 'pandas.core.frame.DataFrame'>\n",
            "Int64Index: 22711 entries, 0 to 22710\n",
            "Data columns (total 9 columns):\n",
            " #   Column   Non-Null Count  Dtype  \n",
            "---  ------   --------------  -----  \n",
            " 0   Country  22711 non-null  object \n",
            " 1   Year     22711 non-null  int64  \n",
            " 2   Pop      2585 non-null   float64\n",
            " 3   Pop_den  2585 non-null   float64\n",
            " 4   CO2      13248 non-null  object \n",
            " 5   Forest   7139 non-null   float64\n",
            " 6   GDP      9348 non-null   object \n",
            " 7   ICVA     9857 non-null   float64\n",
            " 8   ElecC    6241 non-null   float64\n",
            "dtypes: float64(5), int64(1), object(3)\n",
            "memory usage: 1.7+ MB\n"
          ]
        }
      ]
    },
    {
      "cell_type": "code",
      "source": [
        "elecg = pd.read_csv('/content/Co2/electricity-generation.csv')\n",
        "elecg = elecg.drop(elecg.columns[[1]], axis = 1)\n",
        "elecg = elecg.rename(columns = {'Entity':'Country', 'Electricity Generation (TWh)': 'ElecG'})\n",
        "elecg.info()\n",
        "print(elecg['Year'].unique())"
      ],
      "metadata": {
        "id": "dcqv9NKaoBzk",
        "colab": {
          "base_uri": "https://localhost:8080/"
        },
        "outputId": "35c57271-a6a5-46f4-f6c4-ec3fa3ffac0e"
      },
      "execution_count": null,
      "outputs": [
        {
          "output_type": "stream",
          "name": "stdout",
          "text": [
            "<class 'pandas.core.frame.DataFrame'>\n",
            "RangeIndex: 6241 entries, 0 to 6240\n",
            "Data columns (total 3 columns):\n",
            " #   Column   Non-Null Count  Dtype  \n",
            "---  ------   --------------  -----  \n",
            " 0   Country  6241 non-null   object \n",
            " 1   Year     6241 non-null   int64  \n",
            " 2   ElecG    6241 non-null   float64\n",
            "dtypes: float64(1), int64(1), object(1)\n",
            "memory usage: 146.4+ KB\n",
            "[2000 2001 2002 2003 2004 2005 2006 2007 2008 2009 2010 2011 2012 2013\n",
            " 2014 2015 2016 2017 2018 2019 1985 1986 1987 1988 1989 1990 1991 1992\n",
            " 1993 1994 1995 1996 1997 1998 1999 2020]\n"
          ]
        }
      ]
    },
    {
      "cell_type": "code",
      "source": [
        "data = pd.merge(data, elecg, how = 'outer', on = ['Country', 'Year'])\n",
        "data.info()"
      ],
      "metadata": {
        "id": "ikPiAEjpPvDg",
        "colab": {
          "base_uri": "https://localhost:8080/"
        },
        "outputId": "3e82c544-4d1d-448c-d756-c5505030a520"
      },
      "execution_count": null,
      "outputs": [
        {
          "output_type": "stream",
          "name": "stdout",
          "text": [
            "<class 'pandas.core.frame.DataFrame'>\n",
            "Int64Index: 22711 entries, 0 to 22710\n",
            "Data columns (total 10 columns):\n",
            " #   Column   Non-Null Count  Dtype  \n",
            "---  ------   --------------  -----  \n",
            " 0   Country  22711 non-null  object \n",
            " 1   Year     22711 non-null  int64  \n",
            " 2   Pop      2585 non-null   float64\n",
            " 3   Pop_den  2585 non-null   float64\n",
            " 4   CO2      13248 non-null  object \n",
            " 5   Forest   7139 non-null   float64\n",
            " 6   GDP      9348 non-null   object \n",
            " 7   ICVA     9857 non-null   float64\n",
            " 8   ElecC    6241 non-null   float64\n",
            " 9   ElecG    6241 non-null   float64\n",
            "dtypes: float64(6), int64(1), object(3)\n",
            "memory usage: 1.9+ MB\n"
          ]
        }
      ]
    },
    {
      "cell_type": "code",
      "source": [
        "ffc = pd.read_csv('/content/Co2/fossil-fuel-primary-energy.csv')\n",
        "ffc = ffc.drop(ffc.columns[[1]], axis = 1)\n",
        "ffc = ffc.rename(columns = {'Entity':'Country', 'Fossil Fuels (TWh)': 'FFC'})\n",
        "ffc.info()\n",
        "print(ffc['Country'].unique())"
      ],
      "metadata": {
        "colab": {
          "base_uri": "https://localhost:8080/"
        },
        "outputId": "031c1aaf-2a35-4689-e887-59410a71e24e",
        "id": "WhKWueeOCiBe"
      },
      "execution_count": null,
      "outputs": [
        {
          "output_type": "stream",
          "name": "stdout",
          "text": [
            "<class 'pandas.core.frame.DataFrame'>\n",
            "RangeIndex: 4284 entries, 0 to 4283\n",
            "Data columns (total 3 columns):\n",
            " #   Column   Non-Null Count  Dtype  \n",
            "---  ------   --------------  -----  \n",
            " 0   Country  4284 non-null   object \n",
            " 1   Year     4284 non-null   int64  \n",
            " 2   FFC      4284 non-null   float64\n",
            "dtypes: float64(1), int64(1), object(1)\n",
            "memory usage: 100.5+ KB\n",
            "['Africa' 'Algeria' 'Argentina' 'Australia' 'Austria' 'Azerbaijan'\n",
            " 'Bangladesh' 'Belarus' 'Belgium' 'Brazil' 'Bulgaria' 'Canada' 'Chile'\n",
            " 'China' 'Colombia' 'Croatia' 'Cyprus' 'Czechia' 'Denmark' 'Ecuador'\n",
            " 'Egypt' 'Estonia' 'Europe' 'Finland' 'France' 'Germany' 'Greece'\n",
            " 'Hong Kong' 'Hungary' 'Iceland' 'India' 'Indonesia' 'Iran' 'Iraq'\n",
            " 'Ireland' 'Israel' 'Italy' 'Japan' 'Kazakhstan' 'Kuwait' 'Latvia'\n",
            " 'Lithuania' 'Luxembourg' 'Malaysia' 'Mexico' 'Morocco' 'Netherlands'\n",
            " 'New Zealand' 'North America' 'North Macedonia' 'Norway' 'Oman'\n",
            " 'Pakistan' 'Peru' 'Philippines' 'Poland' 'Portugal' 'Qatar' 'Romania'\n",
            " 'Russia' 'Saudi Arabia' 'Singapore' 'Slovakia' 'Slovenia' 'South Africa'\n",
            " 'South Korea' 'Spain' 'Sri Lanka' 'Sweden' 'Switzerland' 'Taiwan'\n",
            " 'Thailand' 'Trinidad and Tobago' 'Turkey' 'Turkmenistan' 'Ukraine'\n",
            " 'United Arab Emirates' 'United Kingdom' 'United States' 'Uzbekistan'\n",
            " 'Venezuela' 'Vietnam' 'World']\n"
          ]
        }
      ]
    },
    {
      "cell_type": "code",
      "source": [
        "data = pd.merge(data, ffc, how = 'outer', on = ['Country', 'Year'])\n",
        "data.info()"
      ],
      "metadata": {
        "id": "8Eya7Ff9P6Jl",
        "colab": {
          "base_uri": "https://localhost:8080/"
        },
        "outputId": "23a4c894-c4c9-46b1-b52f-55d06b50b04e"
      },
      "execution_count": null,
      "outputs": [
        {
          "output_type": "stream",
          "name": "stdout",
          "text": [
            "<class 'pandas.core.frame.DataFrame'>\n",
            "Int64Index: 22806 entries, 0 to 22805\n",
            "Data columns (total 11 columns):\n",
            " #   Column   Non-Null Count  Dtype  \n",
            "---  ------   --------------  -----  \n",
            " 0   Country  22806 non-null  object \n",
            " 1   Year     22806 non-null  int64  \n",
            " 2   Pop      2585 non-null   float64\n",
            " 3   Pop_den  2585 non-null   float64\n",
            " 4   CO2      13248 non-null  object \n",
            " 5   Forest   7139 non-null   float64\n",
            " 6   GDP      9348 non-null   object \n",
            " 7   ICVA     9857 non-null   float64\n",
            " 8   ElecC    6241 non-null   float64\n",
            " 9   ElecG    6241 non-null   float64\n",
            " 10  FFC      4284 non-null   float64\n",
            "dtypes: float64(7), int64(1), object(3)\n",
            "memory usage: 2.1+ MB\n"
          ]
        }
      ]
    },
    {
      "cell_type": "code",
      "source": [
        "\n",
        "nec = pd.read_csv('/content/Co2/primary-energy-nuclear.csv')\n",
        "nec = nec.drop(nec.columns[[1]], axis = 1)\n",
        "nec = nec.rename(columns = {'Entity':'Country'})\n",
        "nec = nec.rename(columns = {'Nuclear (TWh – sub method)': 'NEC'})\n",
        "nec.info()\n",
        "print(nec['Country'].unique())"
      ],
      "metadata": {
        "colab": {
          "base_uri": "https://localhost:8080/"
        },
        "id": "YgA2mI27B41x",
        "outputId": "bf70c2b9-4f1a-4646-fe2a-93ce93632df3"
      },
      "execution_count": null,
      "outputs": [
        {
          "output_type": "stream",
          "name": "stdout",
          "text": [
            "<class 'pandas.core.frame.DataFrame'>\n",
            "RangeIndex: 4290 entries, 0 to 4289\n",
            "Data columns (total 3 columns):\n",
            " #   Column   Non-Null Count  Dtype  \n",
            "---  ------   --------------  -----  \n",
            " 0   Country  4290 non-null   object \n",
            " 1   Year     4290 non-null   int64  \n",
            " 2   NEC      4290 non-null   float64\n",
            "dtypes: float64(1), int64(1), object(1)\n",
            "memory usage: 100.7+ KB\n",
            "['Africa' 'Algeria' 'Argentina' 'Australia' 'Austria' 'Azerbaijan'\n",
            " 'Bangladesh' 'Belarus' 'Belgium' 'Brazil' 'Bulgaria' 'Canada' 'Chile'\n",
            " 'China' 'Colombia' 'Croatia' 'Cyprus' 'Czechia' 'Denmark' 'Ecuador'\n",
            " 'Egypt' 'Estonia' 'Europe' 'Finland' 'France' 'Germany' 'Greece'\n",
            " 'Hong Kong' 'Hungary' 'Iceland' 'India' 'Indonesia' 'Iran' 'Iraq'\n",
            " 'Ireland' 'Israel' 'Italy' 'Japan' 'Kazakhstan' 'Kuwait' 'Latvia'\n",
            " 'Lithuania' 'Luxembourg' 'Malaysia' 'Mexico' 'Morocco' 'Netherlands'\n",
            " 'New Zealand' 'North America' 'North Macedonia' 'Norway' 'Oman'\n",
            " 'Pakistan' 'Peru' 'Philippines' 'Poland' 'Portugal' 'Qatar' 'Romania'\n",
            " 'Russia' 'Saudi Arabia' 'Singapore' 'Slovakia' 'Slovenia' 'South Africa'\n",
            " 'South Korea' 'Spain' 'Sri Lanka' 'Sweden' 'Switzerland' 'Taiwan'\n",
            " 'Thailand' 'Trinidad and Tobago' 'Turkey' 'Turkmenistan' 'Ukraine'\n",
            " 'United Arab Emirates' 'United Kingdom' 'United States' 'Uzbekistan'\n",
            " 'Venezuela' 'Vietnam' 'World']\n"
          ]
        }
      ]
    },
    {
      "cell_type": "code",
      "source": [
        "data = pd.merge(data, nec, how = 'outer', on = ['Country', 'Year'])\n",
        "data.info()"
      ],
      "metadata": {
        "id": "qBsY5vYKQBuQ",
        "colab": {
          "base_uri": "https://localhost:8080/"
        },
        "outputId": "6d7bc14b-df59-4ad1-9498-acd71c55e52e"
      },
      "execution_count": null,
      "outputs": [
        {
          "output_type": "stream",
          "name": "stdout",
          "text": [
            "<class 'pandas.core.frame.DataFrame'>\n",
            "Int64Index: 22806 entries, 0 to 22805\n",
            "Data columns (total 12 columns):\n",
            " #   Column   Non-Null Count  Dtype  \n",
            "---  ------   --------------  -----  \n",
            " 0   Country  22806 non-null  object \n",
            " 1   Year     22806 non-null  int64  \n",
            " 2   Pop      2585 non-null   float64\n",
            " 3   Pop_den  2585 non-null   float64\n",
            " 4   CO2      13248 non-null  object \n",
            " 5   Forest   7139 non-null   float64\n",
            " 6   GDP      9348 non-null   object \n",
            " 7   ICVA     9857 non-null   float64\n",
            " 8   ElecC    6241 non-null   float64\n",
            " 9   ElecG    6241 non-null   float64\n",
            " 10  FFC      4284 non-null   float64\n",
            " 11  NEC      4290 non-null   float64\n",
            "dtypes: float64(8), int64(1), object(3)\n",
            "memory usage: 2.3+ MB\n"
          ]
        }
      ]
    },
    {
      "cell_type": "code",
      "source": [
        "rec = pd.read_csv('/content/Co2/primary-energy-renewables.csv')\n",
        "rec = rec.drop(rec.columns[[1]], axis = 1)\n",
        "rec = rec.rename(columns = {'Entity':'Country', 'Renewables (TWh – sub method)': 'REC'})\n",
        "\n",
        "rec.info()\n",
        "print(rec['Country'].unique())\n"
      ],
      "metadata": {
        "id": "JsejDoyKEpyu",
        "colab": {
          "base_uri": "https://localhost:8080/"
        },
        "outputId": "4b02207a-08e1-4cc5-8c19-8f8a92039a1b"
      },
      "execution_count": null,
      "outputs": [
        {
          "output_type": "stream",
          "name": "stdout",
          "text": [
            "<class 'pandas.core.frame.DataFrame'>\n",
            "RangeIndex: 4290 entries, 0 to 4289\n",
            "Data columns (total 3 columns):\n",
            " #   Column   Non-Null Count  Dtype  \n",
            "---  ------   --------------  -----  \n",
            " 0   Country  4290 non-null   object \n",
            " 1   Year     4290 non-null   int64  \n",
            " 2   REC      4290 non-null   float64\n",
            "dtypes: float64(1), int64(1), object(1)\n",
            "memory usage: 100.7+ KB\n",
            "['Africa' 'Algeria' 'Argentina' 'Australia' 'Austria' 'Azerbaijan'\n",
            " 'Bangladesh' 'Belarus' 'Belgium' 'Brazil' 'Bulgaria' 'Canada' 'Chile'\n",
            " 'China' 'Colombia' 'Croatia' 'Cyprus' 'Czechia' 'Denmark' 'Ecuador'\n",
            " 'Egypt' 'Estonia' 'Europe' 'Finland' 'France' 'Germany' 'Greece'\n",
            " 'Hong Kong' 'Hungary' 'Iceland' 'India' 'Indonesia' 'Iran' 'Iraq'\n",
            " 'Ireland' 'Israel' 'Italy' 'Japan' 'Kazakhstan' 'Kuwait' 'Latvia'\n",
            " 'Lithuania' 'Luxembourg' 'Malaysia' 'Mexico' 'Morocco' 'Netherlands'\n",
            " 'New Zealand' 'North America' 'North Macedonia' 'Norway' 'Oman'\n",
            " 'Pakistan' 'Peru' 'Philippines' 'Poland' 'Portugal' 'Qatar' 'Romania'\n",
            " 'Russia' 'Saudi Arabia' 'Singapore' 'Slovakia' 'Slovenia' 'South Africa'\n",
            " 'South Korea' 'Spain' 'Sri Lanka' 'Sweden' 'Switzerland' 'Taiwan'\n",
            " 'Thailand' 'Trinidad and Tobago' 'Turkey' 'Turkmenistan' 'Ukraine'\n",
            " 'United Arab Emirates' 'United Kingdom' 'United States' 'Uzbekistan'\n",
            " 'Venezuela' 'Vietnam' 'World']\n"
          ]
        }
      ]
    },
    {
      "cell_type": "code",
      "source": [
        "data = pd.merge(data, rec, how = 'outer', on = ['Country', 'Year'])\n",
        "data.info()"
      ],
      "metadata": {
        "id": "RO2tE5F3QMJP",
        "colab": {
          "base_uri": "https://localhost:8080/"
        },
        "outputId": "42119090-0608-4701-f0bb-23bea43ad360"
      },
      "execution_count": null,
      "outputs": [
        {
          "output_type": "stream",
          "name": "stdout",
          "text": [
            "<class 'pandas.core.frame.DataFrame'>\n",
            "Int64Index: 22806 entries, 0 to 22805\n",
            "Data columns (total 13 columns):\n",
            " #   Column   Non-Null Count  Dtype  \n",
            "---  ------   --------------  -----  \n",
            " 0   Country  22806 non-null  object \n",
            " 1   Year     22806 non-null  int64  \n",
            " 2   Pop      2585 non-null   float64\n",
            " 3   Pop_den  2585 non-null   float64\n",
            " 4   CO2      13248 non-null  object \n",
            " 5   Forest   7139 non-null   float64\n",
            " 6   GDP      9348 non-null   object \n",
            " 7   ICVA     9857 non-null   float64\n",
            " 8   ElecC    6241 non-null   float64\n",
            " 9   ElecG    6241 non-null   float64\n",
            " 10  FFC      4284 non-null   float64\n",
            " 11  NEC      4290 non-null   float64\n",
            " 12  REC      4290 non-null   float64\n",
            "dtypes: float64(9), int64(1), object(3)\n",
            "memory usage: 2.4+ MB\n"
          ]
        }
      ]
    },
    {
      "cell_type": "code",
      "source": [
        "tec = pd.read_csv('/content/Co2/primary-energy-cons.csv')\n",
        "tec = tec.drop(tec.columns[[1]], axis = 1)\n",
        "tec = tec.rename(columns = {'Entity':'Country', 'Primary energy consumption (TWh)': 'TEC'})\n",
        "tec.info()\n",
        "print(tec['Country'].unique())"
      ],
      "metadata": {
        "id": "WHA5CvBnFNgn",
        "colab": {
          "base_uri": "https://localhost:8080/"
        },
        "outputId": "e54a1ee4-5266-4c36-890e-7077a9e432f0"
      },
      "execution_count": null,
      "outputs": [
        {
          "output_type": "stream",
          "name": "stdout",
          "text": [
            "<class 'pandas.core.frame.DataFrame'>\n",
            "RangeIndex: 10134 entries, 0 to 10133\n",
            "Data columns (total 3 columns):\n",
            " #   Column   Non-Null Count  Dtype  \n",
            "---  ------   --------------  -----  \n",
            " 0   Country  10134 non-null  object \n",
            " 1   Year     10134 non-null  int64  \n",
            " 2   TEC      10134 non-null  float64\n",
            "dtypes: float64(1), int64(1), object(1)\n",
            "memory usage: 237.6+ KB\n",
            "['Afghanistan' 'Africa' 'Albania' 'Algeria' 'American Samoa' 'Angola'\n",
            " 'Antigua and Barbuda' 'Argentina' 'Armenia' 'Aruba' 'Asia Pacific'\n",
            " 'Australia' 'Austria' 'Azerbaijan' 'Bahamas' 'Bahrain' 'Bangladesh'\n",
            " 'Barbados' 'Belarus' 'Belgium' 'Belize' 'Benin' 'Bermuda' 'Bhutan'\n",
            " 'Bolivia' 'Bosnia and Herzegovina' 'Botswana' 'Brazil'\n",
            " 'British Virgin Islands' 'Brunei' 'Bulgaria' 'Burkina Faso' 'Burma'\n",
            " 'Burundi' 'CIS' 'Cambodia' 'Cameroon' 'Canada' 'Cape Verde'\n",
            " 'Cayman Islands' 'Central African Republic' 'Central America' 'Chad'\n",
            " 'Chile' 'China' 'Colombia' 'Comoros' 'Congo' 'Cook Islands' 'Costa Rica'\n",
            " 'Croatia' 'Cuba' 'Cyprus' 'Czechia' 'Czechoslovakia'\n",
            " 'Democratic Republic of Congo' 'Denmark' 'Djibouti' 'Dominica'\n",
            " 'Dominican Republic' 'Eastern Africa' 'Ecuador' 'Egypt' 'El Salvador'\n",
            " 'Equatorial Guinea' 'Eritrea' 'Estonia' 'Eswatini' 'Ethiopia' 'Europe'\n",
            " 'Europe (other)' 'Faeroe Islands' 'Falkland Islands' 'Fiji' 'Finland'\n",
            " 'France' 'French Guiana' 'French Polynesia' 'Gabon' 'Gambia' 'Georgia'\n",
            " 'Germany' 'Ghana' 'Gibraltar' 'Greece' 'Greenland' 'Grenada' 'Guadeloupe'\n",
            " 'Guam' 'Guatemala' 'Guinea' 'Guinea-Bissau' 'Guyana' 'Haiti' 'Honduras'\n",
            " 'Hong Kong' 'Hungary' 'Iceland' 'India' 'Indonesia' 'Iran' 'Iraq'\n",
            " 'Ireland' 'Israel' 'Italy' 'Ivory Coast' 'Jamaica' 'Japan' 'Jordan'\n",
            " 'Kazakhstan' 'Kenya' 'Kiribati' 'Kosovo' 'Kuwait' 'Kyrgyzstan' 'Laos'\n",
            " 'Latvia' 'Lebanon' 'Lesotho' 'Liberia' 'Libya' 'Lithuania' 'Luxembourg'\n",
            " 'Macau' 'Madagascar' 'Malawi' 'Malaysia' 'Maldives' 'Mali' 'Malta'\n",
            " 'Martinique' 'Mauritania' 'Mauritius' 'Mexico' 'Middle Africa'\n",
            " 'Middle East' 'Moldova' 'Mongolia' 'Montenegro' 'Montserrat' 'Morocco'\n",
            " 'Mozambique' 'Namibia' 'Nauru' 'Nepal' 'Netherlands'\n",
            " 'Netherlands Antilles' 'New Caledonia' 'New Zealand' 'Nicaragua' 'Niger'\n",
            " 'Nigeria' 'Niue' 'North America' 'North Korea' 'North Macedonia'\n",
            " 'Northern Mariana Islands' 'Norway' 'OPEC' 'Oman' 'Other Asia & Pacific'\n",
            " 'Other CIS' 'Other Caribbean' 'Other Middle East' 'Other Northern Africa'\n",
            " 'Other South America' 'Other Southern Africa' 'Pakistan' 'Palestine'\n",
            " 'Panama' 'Papua New Guinea' 'Paraguay' 'Peru' 'Philippines' 'Poland'\n",
            " 'Portugal' 'Puerto Rico' 'Qatar' 'Reunion' 'Romania' 'Russia' 'Rwanda'\n",
            " 'Saint Helena' 'Saint Kitts and Nevis' 'Saint Lucia'\n",
            " 'Saint Pierre and Miquelon' 'Saint Vincent and the Grenadines' 'Samoa'\n",
            " 'Sao Tome and Principe' 'Saudi Arabia' 'Senegal' 'Serbia' 'Seychelles'\n",
            " 'Sierra Leone' 'Singapore' 'Slovakia' 'Slovenia' 'Solomon Islands'\n",
            " 'Somalia' 'South & Central America' 'South Africa' 'South Korea'\n",
            " 'South Sudan' 'Spain' 'Sri Lanka' 'Sudan' 'Suriname' 'Sweden'\n",
            " 'Switzerland' 'Syria' 'Taiwan' 'Tajikistan' 'Tanzania' 'Thailand' 'Timor'\n",
            " 'Togo' 'Tonga' 'Trinidad and Tobago' 'Tunisia' 'Turkey' 'Turkmenistan'\n",
            " 'Turks and Caicos Islands' 'USSR' 'Uganda' 'Ukraine'\n",
            " 'United Arab Emirates' 'United Kingdom' 'United States'\n",
            " 'United States Pacific Islands' 'United States Virgin Islands' 'Uruguay'\n",
            " 'Uzbekistan' 'Vanuatu' 'Venezuela' 'Vietnam' 'Western Africa'\n",
            " 'Western Sahara' 'World' 'Yemen' 'Yugoslavia' 'Zambia' 'Zimbabwe']\n"
          ]
        }
      ]
    },
    {
      "cell_type": "code",
      "source": [
        "data = pd.merge(data, tec, how = 'outer', on = ['Country', 'Year'])\n",
        "data.info()"
      ],
      "metadata": {
        "id": "qznTW290QWzg",
        "colab": {
          "base_uri": "https://localhost:8080/"
        },
        "outputId": "1aab3fe6-1bd0-46f9-aa48-44ac375d96f7"
      },
      "execution_count": null,
      "outputs": [
        {
          "output_type": "stream",
          "name": "stdout",
          "text": [
            "<class 'pandas.core.frame.DataFrame'>\n",
            "Int64Index: 23501 entries, 0 to 23500\n",
            "Data columns (total 14 columns):\n",
            " #   Column   Non-Null Count  Dtype  \n",
            "---  ------   --------------  -----  \n",
            " 0   Country  23501 non-null  object \n",
            " 1   Year     23501 non-null  int64  \n",
            " 2   Pop      2585 non-null   float64\n",
            " 3   Pop_den  2585 non-null   float64\n",
            " 4   CO2      13248 non-null  object \n",
            " 5   Forest   7139 non-null   float64\n",
            " 6   GDP      9348 non-null   object \n",
            " 7   ICVA     9857 non-null   float64\n",
            " 8   ElecC    6241 non-null   float64\n",
            " 9   ElecG    6241 non-null   float64\n",
            " 10  FFC      4284 non-null   float64\n",
            " 11  NEC      4290 non-null   float64\n",
            " 12  REC      4290 non-null   float64\n",
            " 13  TEC      10134 non-null  float64\n",
            "dtypes: float64(10), int64(1), object(3)\n",
            "memory usage: 2.7+ MB\n"
          ]
        }
      ]
    },
    {
      "cell_type": "code",
      "source": [
        "data.head()"
      ],
      "metadata": {
        "colab": {
          "base_uri": "https://localhost:8080/",
          "height": 197
        },
        "id": "yzJgdlGqUN0I",
        "outputId": "66af1d36-89ab-4bf9-c939-665877a35963"
      },
      "execution_count": null,
      "outputs": [
        {
          "output_type": "execute_result",
          "data": {
            "text/html": [
              "\n",
              "  <div id=\"df-c9fdf20d-807c-4add-b495-60db56014372\">\n",
              "    <div class=\"colab-df-container\">\n",
              "      <div>\n",
              "<style scoped>\n",
              "    .dataframe tbody tr th:only-of-type {\n",
              "        vertical-align: middle;\n",
              "    }\n",
              "\n",
              "    .dataframe tbody tr th {\n",
              "        vertical-align: top;\n",
              "    }\n",
              "\n",
              "    .dataframe thead th {\n",
              "        text-align: right;\n",
              "    }\n",
              "</style>\n",
              "<table border=\"1\" class=\"dataframe\">\n",
              "  <thead>\n",
              "    <tr style=\"text-align: right;\">\n",
              "      <th></th>\n",
              "      <th>Country</th>\n",
              "      <th>Year</th>\n",
              "      <th>Pop</th>\n",
              "      <th>Pop_den</th>\n",
              "      <th>CO2</th>\n",
              "      <th>Forest</th>\n",
              "      <th>GDP</th>\n",
              "      <th>ICVA</th>\n",
              "      <th>ElecC</th>\n",
              "      <th>ElecG</th>\n",
              "      <th>FFC</th>\n",
              "      <th>NEC</th>\n",
              "      <th>REC</th>\n",
              "      <th>TEC</th>\n",
              "    </tr>\n",
              "  </thead>\n",
              "  <tbody>\n",
              "    <tr>\n",
              "      <th>0</th>\n",
              "      <td>China</td>\n",
              "      <td>2020</td>\n",
              "      <td>1.439324e+09</td>\n",
              "      <td>153.0</td>\n",
              "      <td>NaN</td>\n",
              "      <td>219978.180</td>\n",
              "      <td>14866.7</td>\n",
              "      <td>5.568272e+12</td>\n",
              "      <td>7623.696272</td>\n",
              "      <td>7623.696272</td>\n",
              "      <td>NaN</td>\n",
              "      <td>NaN</td>\n",
              "      <td>NaN</td>\n",
              "      <td>NaN</td>\n",
              "    </tr>\n",
              "    <tr>\n",
              "      <th>1</th>\n",
              "      <td>China</td>\n",
              "      <td>2019</td>\n",
              "      <td>1.433784e+09</td>\n",
              "      <td>153.0</td>\n",
              "      <td>NaN</td>\n",
              "      <td>218041.394</td>\n",
              "      <td>14340.6</td>\n",
              "      <td>5.510257e+12</td>\n",
              "      <td>7326.700000</td>\n",
              "      <td>7326.700000</td>\n",
              "      <td>33512.486</td>\n",
              "      <td>863.457</td>\n",
              "      <td>4984.982</td>\n",
              "      <td>39360.925</td>\n",
              "    </tr>\n",
              "    <tr>\n",
              "      <th>2</th>\n",
              "      <td>China</td>\n",
              "      <td>2018</td>\n",
              "      <td>1.427648e+09</td>\n",
              "      <td>152.0</td>\n",
              "      <td>10800.00</td>\n",
              "      <td>216104.608</td>\n",
              "      <td>13841.8</td>\n",
              "      <td>5.514438e+12</td>\n",
              "      <td>6996.200000</td>\n",
              "      <td>6996.200000</td>\n",
              "      <td>32388.702</td>\n",
              "      <td>733.188</td>\n",
              "      <td>4592.223</td>\n",
              "      <td>37714.113</td>\n",
              "    </tr>\n",
              "    <tr>\n",
              "      <th>3</th>\n",
              "      <td>China</td>\n",
              "      <td>2017</td>\n",
              "      <td>1.421022e+09</td>\n",
              "      <td>151.0</td>\n",
              "      <td>10600.00</td>\n",
              "      <td>214167.822</td>\n",
              "      <td>12265.3</td>\n",
              "      <td>4.905907e+12</td>\n",
              "      <td>6448.700000</td>\n",
              "      <td>6448.700000</td>\n",
              "      <td>31527.347</td>\n",
              "      <td>620.250</td>\n",
              "      <td>4194.580</td>\n",
              "      <td>36342.177</td>\n",
              "    </tr>\n",
              "    <tr>\n",
              "      <th>4</th>\n",
              "      <td>China</td>\n",
              "      <td>2016</td>\n",
              "      <td>1.414049e+09</td>\n",
              "      <td>151.0</td>\n",
              "      <td>10400.00</td>\n",
              "      <td>212231.036</td>\n",
              "      <td>11226.9</td>\n",
              "      <td>4.446201e+12</td>\n",
              "      <td>6022.800000</td>\n",
              "      <td>6022.800000</td>\n",
              "      <td>30872.326</td>\n",
              "      <td>536.100</td>\n",
              "      <td>3855.695</td>\n",
              "      <td>35264.122</td>\n",
              "    </tr>\n",
              "  </tbody>\n",
              "</table>\n",
              "</div>\n",
              "      <button class=\"colab-df-convert\" onclick=\"convertToInteractive('df-c9fdf20d-807c-4add-b495-60db56014372')\"\n",
              "              title=\"Convert this dataframe to an interactive table.\"\n",
              "              style=\"display:none;\">\n",
              "        \n",
              "  <svg xmlns=\"http://www.w3.org/2000/svg\" height=\"24px\"viewBox=\"0 0 24 24\"\n",
              "       width=\"24px\">\n",
              "    <path d=\"M0 0h24v24H0V0z\" fill=\"none\"/>\n",
              "    <path d=\"M18.56 5.44l.94 2.06.94-2.06 2.06-.94-2.06-.94-.94-2.06-.94 2.06-2.06.94zm-11 1L8.5 8.5l.94-2.06 2.06-.94-2.06-.94L8.5 2.5l-.94 2.06-2.06.94zm10 10l.94 2.06.94-2.06 2.06-.94-2.06-.94-.94-2.06-.94 2.06-2.06.94z\"/><path d=\"M17.41 7.96l-1.37-1.37c-.4-.4-.92-.59-1.43-.59-.52 0-1.04.2-1.43.59L10.3 9.45l-7.72 7.72c-.78.78-.78 2.05 0 2.83L4 21.41c.39.39.9.59 1.41.59.51 0 1.02-.2 1.41-.59l7.78-7.78 2.81-2.81c.8-.78.8-2.07 0-2.86zM5.41 20L4 18.59l7.72-7.72 1.47 1.35L5.41 20z\"/>\n",
              "  </svg>\n",
              "      </button>\n",
              "      \n",
              "  <style>\n",
              "    .colab-df-container {\n",
              "      display:flex;\n",
              "      flex-wrap:wrap;\n",
              "      gap: 12px;\n",
              "    }\n",
              "\n",
              "    .colab-df-convert {\n",
              "      background-color: #E8F0FE;\n",
              "      border: none;\n",
              "      border-radius: 50%;\n",
              "      cursor: pointer;\n",
              "      display: none;\n",
              "      fill: #1967D2;\n",
              "      height: 32px;\n",
              "      padding: 0 0 0 0;\n",
              "      width: 32px;\n",
              "    }\n",
              "\n",
              "    .colab-df-convert:hover {\n",
              "      background-color: #E2EBFA;\n",
              "      box-shadow: 0px 1px 2px rgba(60, 64, 67, 0.3), 0px 1px 3px 1px rgba(60, 64, 67, 0.15);\n",
              "      fill: #174EA6;\n",
              "    }\n",
              "\n",
              "    [theme=dark] .colab-df-convert {\n",
              "      background-color: #3B4455;\n",
              "      fill: #D2E3FC;\n",
              "    }\n",
              "\n",
              "    [theme=dark] .colab-df-convert:hover {\n",
              "      background-color: #434B5C;\n",
              "      box-shadow: 0px 1px 3px 1px rgba(0, 0, 0, 0.15);\n",
              "      filter: drop-shadow(0px 1px 2px rgba(0, 0, 0, 0.3));\n",
              "      fill: #FFFFFF;\n",
              "    }\n",
              "  </style>\n",
              "\n",
              "      <script>\n",
              "        const buttonEl =\n",
              "          document.querySelector('#df-c9fdf20d-807c-4add-b495-60db56014372 button.colab-df-convert');\n",
              "        buttonEl.style.display =\n",
              "          google.colab.kernel.accessAllowed ? 'block' : 'none';\n",
              "\n",
              "        async function convertToInteractive(key) {\n",
              "          const element = document.querySelector('#df-c9fdf20d-807c-4add-b495-60db56014372');\n",
              "          const dataTable =\n",
              "            await google.colab.kernel.invokeFunction('convertToInteractive',\n",
              "                                                     [key], {});\n",
              "          if (!dataTable) return;\n",
              "\n",
              "          const docLinkHtml = 'Like what you see? Visit the ' +\n",
              "            '<a target=\"_blank\" href=https://colab.research.google.com/notebooks/data_table.ipynb>data table notebook</a>'\n",
              "            + ' to learn more about interactive tables.';\n",
              "          element.innerHTML = '';\n",
              "          dataTable['output_type'] = 'display_data';\n",
              "          await google.colab.output.renderOutput(dataTable, element);\n",
              "          const docLink = document.createElement('div');\n",
              "          docLink.innerHTML = docLinkHtml;\n",
              "          element.appendChild(docLink);\n",
              "        }\n",
              "      </script>\n",
              "    </div>\n",
              "  </div>\n",
              "  "
            ],
            "text/plain": [
              "  Country  Year           Pop  Pop_den  ...        FFC      NEC       REC        TEC\n",
              "0   China  2020  1.439324e+09    153.0  ...        NaN      NaN       NaN        NaN\n",
              "1   China  2019  1.433784e+09    153.0  ...  33512.486  863.457  4984.982  39360.925\n",
              "2   China  2018  1.427648e+09    152.0  ...  32388.702  733.188  4592.223  37714.113\n",
              "3   China  2017  1.421022e+09    151.0  ...  31527.347  620.250  4194.580  36342.177\n",
              "4   China  2016  1.414049e+09    151.0  ...  30872.326  536.100  3855.695  35264.122\n",
              "\n",
              "[5 rows x 14 columns]"
            ]
          },
          "metadata": {},
          "execution_count": 54
        }
      ]
    },
    {
      "cell_type": "code",
      "source": [
        "data.to_csv('/content/Co2/data.csv')"
      ],
      "metadata": {
        "id": "qgegM2zhQaXu"
      },
      "execution_count": null,
      "outputs": []
    },
    {
      "cell_type": "code",
      "source": [
        ""
      ],
      "metadata": {
        "id": "CeJQ0e68WjgS"
      },
      "execution_count": null,
      "outputs": []
    }
  ]
}